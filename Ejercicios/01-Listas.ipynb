{
 "cells": [
  {
   "cell_type": "markdown",
   "metadata": {},
   "source": [
    "### Ejercicios para practicar listas"
   ]
  },
  {
   "cell_type": "markdown",
   "metadata": {},
   "source": [
    " - Añadir elementos a una lista"
   ]
  },
  {
   "cell_type": "code",
   "execution_count": 10,
   "metadata": {},
   "outputs": [
    {
     "name": "stdout",
     "output_type": "stream",
     "text": [
      "Las frutas añadidas son: ['Banana', 'Naranja', 'Manzana', 'Uva', 'Pera']\n"
     ]
    }
   ],
   "source": [
    "frutas = []\n",
    "\n",
    "frutas.append(\"Banana\")\n",
    "frutas.append(\"Naranja\")\n",
    "frutas.append(\"Manzana\")\n",
    "\n",
    "frutas.extend([\"Uva\" , \"Pera\"])\n",
    "\n",
    "\n",
    "\n",
    "print(f\"Las frutas añadidas son: {frutas}\")"
   ]
  },
  {
   "cell_type": "markdown",
   "metadata": {},
   "source": [
    "- Contar elementos en una lista\n",
    "\n"
   ]
  },
  {
   "cell_type": "code",
   "execution_count": 12,
   "metadata": {},
   "outputs": [
    {
     "name": "stdout",
     "output_type": "stream",
     "text": [
      "El número se repite: 3\n"
     ]
    }
   ],
   "source": [
    "numeros = [1,2,3,4,1,2,1,5]\n",
    "\n",
    "se_repite = numeros.count(1)\n",
    "\n",
    "print(f\"El número se repite: {se_repite} veces\")"
   ]
  },
  {
   "cell_type": "markdown",
   "metadata": {},
   "source": [
    "- Ordenar una lista"
   ]
  },
  {
   "cell_type": "code",
   "execution_count": 15,
   "metadata": {},
   "outputs": [
    {
     "name": "stdout",
     "output_type": "stream",
     "text": [
      "Las edades ordenadas son: [6, 12, 17, 18, 19, 31, 34, 65]\n",
      "Lista de edades ordenada de forma descendente: [65, 34, 31, 19, 18, 17, 12, 6]\n"
     ]
    }
   ],
   "source": [
    "edades = [31,12,18,65,34,19,17,6]\n",
    "edades.sort()\n",
    "print(f\"Las edades ordenadas son: {edades}\")\n",
    "\n",
    "edades.sort(reverse = True)\n",
    "print(f\"Lista de edades ordenada de forma descendente: {edades}\")"
   ]
  },
  {
   "cell_type": "markdown",
   "metadata": {},
   "source": [
    " - Eliminar elementos de una lista"
   ]
  },
  {
   "cell_type": "code",
   "execution_count": 17,
   "metadata": {},
   "outputs": [
    {
     "name": "stdout",
     "output_type": "stream",
     "text": [
      "Lista después de remove: ['Azul', 'Verde', 'Amarillo']\n",
      "Lista después de pop: ['Azul', 'Verde', 'Amarillo']\n"
     ]
    }
   ],
   "source": [
    "colores = [\"Rojo\" ,\"Azul\",\"Verde\",\"Amarillo\",\"Azul\"]\n",
    "\n",
    "colores.remove(\"Rojo\")\n",
    "colores.pop(3)\n",
    "\n",
    "print(f\"Lista después de remove: {colores}\")\n",
    "print(f\"Lista después de pop: {colores}\")"
   ]
  },
  {
   "cell_type": "markdown",
   "metadata": {},
   "source": [
    "- Encontrar el índice de un elemento"
   ]
  },
  {
   "cell_type": "code",
   "execution_count": 19,
   "metadata": {},
   "outputs": [
    {
     "name": "stdout",
     "output_type": "stream",
     "text": [
      "El elemento se encuentra en el índice: 0\n"
     ]
    }
   ],
   "source": [
    "animales = [\"Gato\" , \"Perro\" , \"Pez\" , \"Pájaro\"]\n",
    "\n",
    "elemento = animales.index(\"Gato\")\n",
    "\n",
    "print(f\"El elemento se encuentra en el índice: {elemento}\")"
   ]
  },
  {
   "cell_type": "markdown",
   "metadata": {},
   "source": [
    "- Borrar todos los elementos de la lista"
   ]
  },
  {
   "cell_type": "code",
   "execution_count": 20,
   "metadata": {},
   "outputs": [
    {
     "name": "stdout",
     "output_type": "stream",
     "text": [
      "Lista eliminada: []\n"
     ]
    }
   ],
   "source": [
    "tareas = [\"Estudiar\" , \"Limpiar\" , \"Hacer ejercicio\"]\n",
    "\n",
    "tareas.clear()\n",
    "\n",
    "print(f\"Lista eliminada: {tareas}\")"
   ]
  },
  {
   "cell_type": "markdown",
   "metadata": {},
   "source": [
    "- Reversar una lista"
   ]
  },
  {
   "cell_type": "code",
   "execution_count": 21,
   "metadata": {},
   "outputs": [
    {
     "name": "stdout",
     "output_type": "stream",
     "text": [
      "Lista con reverse: [5, 4, 3, 2, 1]\n"
     ]
    }
   ],
   "source": [
    "numeros = [1,2,3,4,5]\n",
    "numeros.reverse()\n",
    "print(f\"Lista con reverse: {numeros}\")"
   ]
  },
  {
   "cell_type": "markdown",
   "metadata": {},
   "source": [
    "- Ejercicios para recorrer listas con for"
   ]
  },
  {
   "cell_type": "markdown",
   "metadata": {},
   "source": [
    "1. Imprimir elementos de una lista"
   ]
  },
  {
   "cell_type": "code",
   "execution_count": 22,
   "metadata": {},
   "outputs": [
    {
     "name": "stdout",
     "output_type": "stream",
     "text": [
      "Los nombres son: Ana\n",
      "Los nombres son: Luis\n",
      "Los nombres son: Carlos\n",
      "Los nombres son: Marta\n"
     ]
    }
   ],
   "source": [
    "valores = [\"Ana\" , \"Luis\" , \"Carlos\" , \"Marta\"]\n",
    "\n",
    "for _ in valores:\n",
    "    print(f\"Los nombres son: {_}\")"
   ]
  },
  {
   "cell_type": "markdown",
   "metadata": {},
   "source": [
    "2. Filtrar números pares de una lista"
   ]
  },
  {
   "cell_type": "code",
   "execution_count": 25,
   "metadata": {},
   "outputs": [
    {
     "name": "stdout",
     "output_type": "stream",
     "text": [
      "El número primo es: 2\n",
      "El número primo es: 3\n",
      "El número primo es: 5\n",
      "El número primo es: 7\n"
     ]
    }
   ],
   "source": [
    "numeros = [1, 2, 3, 4, 5, 6, 7, 8, 9, 10]\n",
    "\n",
    "for x in numeros:\n",
    "    if x > 1:  # Los números primos son mayores que 1\n",
    "        es_primo = True\n",
    "        for i in range(2, x):  # Verificar divisores desde 2 hasta x-1\n",
    "            if x % i == 0:\n",
    "                es_primo = False\n",
    "                break\n",
    "        if es_primo:\n",
    "            print(f\"El número primo es: {x}\")\n"
   ]
  },
  {
   "cell_type": "markdown",
   "metadata": {},
   "source": [
    "3. Contar palabras largas"
   ]
  },
  {
   "cell_type": "code",
   "execution_count": 29,
   "metadata": {},
   "outputs": [
    {
     "name": "stdout",
     "output_type": "stream",
     "text": [
      "Palabra larga encontrada: Elefante\n",
      "Palabra larga encontrada: Perro\n",
      "Palabra larga encontrada: Jirafa\n",
      "Palabra larga encontrada: Ratón\n",
      "El número total de palabras largas es: 4\n"
     ]
    }
   ],
   "source": [
    "palabras = [\"Gato\" , \"Elefante\" , \"Perro\" , \"Jirafa\" , \"Ratón\"]\n",
    "\n",
    "contador = 0\n",
    "\n",
    "for palabra in palabras:\n",
    "    if len(palabra) >= 5:\n",
    "        print(f\"Palabra larga encontrada: {palabra}\")\n",
    "        contador += 1\n",
    "\n",
    "print(f\"El número total de palabras largas es: {contador}\")\n"
   ]
  },
  {
   "cell_type": "markdown",
   "metadata": {},
   "source": [
    "4. Crear una lista de cuadrados"
   ]
  },
  {
   "cell_type": "code",
   "execution_count": 30,
   "metadata": {},
   "outputs": [
    {
     "name": "stdout",
     "output_type": "stream",
     "text": [
      "Lista original: [1, 2, 3, 4, 5]\n",
      "Lista de cuadrados: [1, 4, 9, 16, 25]\n"
     ]
    }
   ],
   "source": [
    "numeros = [1,2,3,4,5]\n",
    "\n",
    "cuadrados = []\n",
    "\n",
    "for numero in numeros:\n",
    "    cuadrados.append(numero ** 2)\n",
    "\n",
    "print(f\"Lista original: {numeros}\")\n",
    "print(f\"Lista de cuadrados: {cuadrados}\")"
   ]
  }
 ],
 "metadata": {
  "kernelspec": {
   "display_name": "Python 3",
   "language": "python",
   "name": "python3"
  },
  "language_info": {
   "codemirror_mode": {
    "name": "ipython",
    "version": 3
   },
   "file_extension": ".py",
   "mimetype": "text/x-python",
   "name": "python",
   "nbconvert_exporter": "python",
   "pygments_lexer": "ipython3",
   "version": "3.12.5"
  }
 },
 "nbformat": 4,
 "nbformat_minor": 2
}
