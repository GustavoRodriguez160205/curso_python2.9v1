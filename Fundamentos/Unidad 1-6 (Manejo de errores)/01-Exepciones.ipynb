{
 "cells": [
  {
   "cell_type": "markdown",
   "metadata": {},
   "source": [
    "# Excepciones en Python\n",
    "\n",
    "Las **excepciones** son errores que ocurren durante la ejecución de un programa. Estos errores se producen incluso cuando la sintaxis del código es correcta. Gestionar las excepciones nos permite evitar que el programa se detenga abruptamente y garantizar que el código pueda continuar ejecutándose de manera controlada.\n",
    "\n",
    "\n",
    "## Ejemplos de situaciones que generan excepciones:\n",
    "\n",
    "1. **Acceder a una posición de una lista fuera de su rango**:\n",
    "   ```python\n",
    "   lista = [1, 2, 3]\n",
    "   print(lista[5])  # IndexError: list index out of range\n",
    "\n",
    "2. **Intentar abrir un archivo que no existe**:\n",
    "    ```python\n",
    "    with open('archivo_que_no_existe.txt', 'r') as file:\n",
    "    contenido = file.read()  # FileNotFoundError\n",
    "\n",
    "3. **Convertir un texto no numérico a un n° entero**:\n",
    "     ```python\n",
    "     numero = int(\"sjksdaln\")  # ValueError: invalid literal for int()\n",
    "\n",
    "\n",
    "## Importante:\n",
    "\n",
    "**Gestionar las excepciones permite:**\n",
    "   \n",
    " - Prevenir que el programa termine de forma inesperada.\n",
    " - Implementar alternativas o soluciones cuando ocurran errores.\n",
    " - Mantener una experiencia de usuario fluida en aplicaciones más      complejas."
   ]
  },
  {
   "cell_type": "markdown",
   "metadata": {},
   "source": [
    "### Excepción: ZeroDivisionError\n",
    "\n",
    "La excepción **ZeroDivisionError** se produce cuando un programa intenta realizar una división entre cero. En Python, tanto para números enteros como de punto flotante, esta operación no está definida matemáticamente y lanza un error.\n"
   ]
  },
  {
   "cell_type": "code",
   "execution_count": 13,
   "metadata": {},
   "outputs": [
    {
     "name": "stdout",
     "output_type": "stream",
     "text": [
      "El resultado de la división sin error es: 2.0\n",
      "No se puede dividir 5 entre 0. El divisor no puede ser cero.\n"
     ]
    }
   ],
   "source": [
    "def division(a, b):\n",
    "    try: # Bloque que prueba el codigo\n",
    "        resultado = a / b\n",
    "        return resultado\n",
    "    except ZeroDivisionError:\n",
    "        print(f\"No se puede dividir {a} entre {b}. El divisor no puede ser cero.\")\n",
    "    \n",
    "\n",
    "resultado = division(4 , 2)\n",
    "print(f\"El resultado de la división sin error es: {resultado}\")\n",
    "\n",
    "division(5 , 0)"
   ]
  },
  {
   "cell_type": "markdown",
   "metadata": {},
   "source": [
    "### Manejo de Multiples Errores\n",
    "\n",
    "01. ### Excepción: IndexError\n",
    "\n",
    " La excepción **IndexError** se produce cuando un programa intenta acceder a un índice que está fuera del rango de una secuencia, como listas, tuplas o cadenas. En Python, esto ocurre cuando el índice es mayor o igual a la longitud de la secuencia o negativo fuera de los límites definidos.\n",
    "\n",
    "02. ### Excepción: ValueError\n",
    "\n",
    "La excepción **ValueError** se produce cuando una función recibe un argumento con el tipo correcto, pero con un valor inapropiado. En Python, esta excepción es útil para manejar errores en la entrada de datos o conversiones que no son válidas según el contexto.\n"
   ]
  },
  {
   "cell_type": "code",
   "execution_count": 3,
   "metadata": {},
   "outputs": [
    {
     "name": "stdout",
     "output_type": "stream",
     "text": [
      "Tu fruta favorita es 0-Platano\n",
      "Tienes que poner un número entero\n",
      "Tienes que poner un número entero\n"
     ]
    }
   ],
   "source": [
    "frutas = [\"0-Platano\" , \"1-Manzana\" , \"2-Pomelo\" , \"3-Melocotón\"]\n",
    "\n",
    "def elegirFruta(listaFrutas):\n",
    "    try:\n",
    "        index = int(input(\" Elige una fruta (por el número): \"))\n",
    "        print(f\"Tu fruta favorita es {listaFrutas[index]}\") # Mostramos el lemento de la lista en base a el número\n",
    "    \n",
    "    except IndexError:\n",
    "        print(f\"Índice incorrecto, debe estar entre 0 y { len(listaFrutas) - 1}\") #  Si ponemos un valor que no está en la lista se resta y pone el ultimo elemento que aparece\n",
    "\n",
    "    except ValueError:\n",
    "        print(\"Tienes que poner un número entero\")\n",
    "\n",
    "elegirFruta(frutas) \n",
    "elegirFruta(frutas)\n",
    "elegirFruta(frutas)"
   ]
  }
 ],
 "metadata": {
  "kernelspec": {
   "display_name": "Python 3",
   "language": "python",
   "name": "python3"
  },
  "language_info": {
   "codemirror_mode": {
    "name": "ipython",
    "version": 3
   },
   "file_extension": ".py",
   "mimetype": "text/x-python",
   "name": "python",
   "nbconvert_exporter": "python",
   "pygments_lexer": "ipython3",
   "version": "3.12.5"
  }
 },
 "nbformat": 4,
 "nbformat_minor": 2
}
