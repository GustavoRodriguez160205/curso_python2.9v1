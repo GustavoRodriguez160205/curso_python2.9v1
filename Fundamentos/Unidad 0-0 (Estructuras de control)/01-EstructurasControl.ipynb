{
 "cells": [
  {
   "cell_type": "markdown",
   "metadata": {},
   "source": [
    "### Estructuras de control "
   ]
  },
  {
   "cell_type": "markdown",
   "metadata": {},
   "source": [
    "## Estructura `if` en Python\n",
    "\n",
    "La estructura `if` nos permite evaluar una expresión y ejecutar un bloque de código. Si el resultado de la expresión es `True`, el código se ejecuta; si es `False`, no se ejecuta nada.\n",
    "\n",
    "---\n",
    "\n",
    "### ¿Cuándo se evalúa una expresión como `False`?\n",
    "\n",
    "Existen varias situaciones en las que una expresión se evalúa como `False` en Python. A continuación, las principales:\n",
    "\n",
    "1. **Cuando el número es igual a `0`:**\n",
    "   - Ejemplo:\n",
    "     ```python\n",
    "     if 0:\n",
    "         print(\"Esto no se ejecuta\")\n",
    "     ```\n",
    "\n",
    "2. **Cuando recibe una colección vacía:**\n",
    "   - Esto aplica para:\n",
    "     - Listas: `[]`\n",
    "     - Tuplas: `()`\n",
    "     - Diccionarios: `{}`\n",
    "     - Conjuntos: `set()`\n",
    "     - Strings vacíos: `\"\"`\n",
    "   - Ejemplo:\n",
    "     ```python\n",
    "     if []:\n",
    "         print(\"Esto no se ejecuta\")\n",
    "     ```\n",
    "\n",
    "3. **Cuando recibe el tipo de dato `None`:**\n",
    "   - Ejemplo:\n",
    "     ```python\n",
    "     valor = None\n",
    "     if valor:\n",
    "         print(\"Esto no se ejecuta\")\n",
    "     ```\n",
    "\n",
    "4. **Cuando se evalúan operadores lógicos o booleanos que resultan en `False`:**\n",
    "   - Ejemplo:\n",
    "     ```python\n",
    "     if False or (5 > 10):\n",
    "         print(\"Esto no se ejecuta\")\n",
    "     ```\n",
    "\n",
    "5. **Cuando se usa el operador `in` y no encuentra el elemento en la colección:**\n",
    "   - Ejemplo:\n",
    "     ```python\n",
    "     if \"a\" in \"python\":\n",
    "         print(\"Esto no se ejecuta\")\n",
    "     ```\n",
    "\n",
    "---\n",
    "\n",
    "\n"
   ]
  },
  {
   "cell_type": "markdown",
   "metadata": {},
   "source": [
    "# Uso de `elif` en Python\n",
    "\n",
    "El uso de `elif` permite simplificar condiciones anidadas, haciéndolas más legibles y fáciles de mantener.  \n",
    "En lugar de escribir múltiples bloques `if` dentro de otros, se pueden manejar condiciones alternativas de forma clara.\n",
    "\n",
    "## ¿Qué es `elif`?\n",
    "\n",
    "`elif` (abreviatura de \"else if\") se utiliza para comprobar condiciones adicionales si la condición del bloque `if` inicial es **falsa**.\n",
    "\n"
   ]
  },
  {
   "cell_type": "markdown",
   "metadata": {},
   "source": [
    "# Sentencia `else` en Python\n",
    "\n",
    "La sentencia `else` se usa junto con `if` para ejecutar un bloque de código cuando la condición evaluada en el `if` resulta ser **False**.  \n",
    "Es una forma de definir una acción alternativa cuando la condición no se cumple.\n",
    "\n",
    "\n",
    "\n",
    "## **¿Cómo funciona `else`?**\n",
    "\n",
    "La sentencia `else` se ejecuta solo si la expresión en el `if` es **False**. Es útil para manejar escenarios en los que necesitas realizar una acción alternativa.\n",
    "\n",
    "\n",
    "\n",
    "\n"
   ]
  },
  {
   "cell_type": "markdown",
   "metadata": {},
   "source": [
    "- Ejemplo"
   ]
  },
  {
   "cell_type": "code",
   "execution_count": 3,
   "metadata": {},
   "outputs": [
    {
     "name": "stdout",
     "output_type": "stream",
     "text": [
      "Nota fuera de rango\n"
     ]
    }
   ],
   "source": [
    "nota = float(input(\"Introduzca su nota:\"))\n",
    "\n",
    "if 0 <= nota and nota < 5:\n",
    "    print(\"Estás suspenso , F\")\n",
    "\n",
    "elif 5 <= nota and nota < 7:\n",
    "    print(\"Aprobado\")\n",
    "\n",
    "elif 7 <= nota and nota < 9:\n",
    "    property(\"Notable\")\n",
    "\n",
    "elif 9 <= nota and nota <= 10:\n",
    "    print(\"Sobresaliente!\")\n",
    "\n",
    "else:\n",
    "    print(\"Nota fuera de rango\")"
   ]
  }
 ],
 "metadata": {
  "kernelspec": {
   "display_name": "Python 3",
   "language": "python",
   "name": "python3"
  },
  "language_info": {
   "codemirror_mode": {
    "name": "ipython",
    "version": 3
   },
   "file_extension": ".py",
   "mimetype": "text/x-python",
   "name": "python",
   "nbconvert_exporter": "python",
   "pygments_lexer": "ipython3",
   "version": "3.12.5"
  }
 },
 "nbformat": 4,
 "nbformat_minor": 2
}
