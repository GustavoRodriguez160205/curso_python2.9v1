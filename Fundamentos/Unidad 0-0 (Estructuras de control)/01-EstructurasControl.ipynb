{
 "cells": [
  {
   "cell_type": "markdown",
   "metadata": {},
   "source": [
    "### Estructuras de control "
   ]
  },
  {
   "cell_type": "markdown",
   "metadata": {},
   "source": [
    "\n",
    "\n",
    "## Estructura `if` en Python\n",
    "\n",
    "La estructura `if` nos permite evaluar una expresión y ejecutar un bloque de código. Si el resultado de la expresión es `True`, el código se ejecuta; si es `False`, no se ejecuta nada.\n",
    "\n",
    "\n",
    "### ¿Cuándo se evalúa una expresión como `False`?\n",
    "\n",
    "Existen varias situaciones en las que una expresión se evalúa como `False` en Python. A continuación, las principales:\n",
    "\n",
    "1. **Cuando el número es igual a `0`:**\n",
    "   - Ejemplo:\n",
    "     ```python\n",
    "     if 0:\n",
    "         print(\"Esto no se ejecuta\")\n",
    "     ```\n",
    "\n",
    "2. **Cuando recibe una colección vacía:**\n",
    "   - Esto aplica para:\n",
    "     - Listas: `[]`\n",
    "     - Tuplas: `()`\n",
    "     - Diccionarios: `{}`\n",
    "     - Conjuntos: `set()`\n",
    "     - Strings vacíos: `\"\"`\n",
    "   - Ejemplo:\n",
    "     ```python\n",
    "     if []:\n",
    "         print(\"Esto no se ejecuta\")\n",
    "     ```\n",
    "\n",
    "3. **Cuando recibe el tipo de dato `None`:**\n",
    "   - Ejemplo:\n",
    "     ```python\n",
    "     valor = None\n",
    "     if valor:\n",
    "         print(\"Esto no se ejecuta\")\n",
    "     ```\n",
    "\n",
    "4. **Cuando se evalúan operadores lógicos o booleanos que resultan en `False`:**\n",
    "   - Ejemplo:\n",
    "     ```python\n",
    "     if False or (5 > 10):\n",
    "         print(\"Esto no se ejecuta\")\n",
    "     ```\n",
    "\n",
    "5. **Cuando se usa el operador `in` y no encuentra el elemento en la colección:**\n",
    "   - Ejemplo:\n",
    "     ```python\n",
    "     if \"a\" in \"python\":\n",
    "         print(\"Esto no se ejecuta\")\n",
    "     ```\n",
    "\n",
    "---\n",
    "\n",
    "\n"
   ]
  },
  {
   "cell_type": "markdown",
   "metadata": {},
   "source": [
    "\n",
    "\n",
    "# Uso de `elif` en Python\n",
    "\n",
    "El uso de `elif` permite simplificar condiciones anidadas, haciéndolas más legibles y fáciles de mantener.  \n",
    "En lugar de escribir múltiples bloques `if` anidados, se pueden manejar condiciones alternativas de forma más clara y estructurada.\n",
    "\n",
    "## ¿Qué es `elif`?\n",
    "\n",
    "`elif`, abreviatura de \"else if\", se utiliza para comprobar condiciones adicionales cuando la condición del bloque `if` inicial es **falsa**. Esto evita el uso excesivo de bloques `if` independientes o anidados, mejorando la legibilidad del código.\n",
    "\n",
    "\n"
   ]
  },
  {
   "cell_type": "markdown",
   "metadata": {},
   "source": [
    "- Ejemplo: Verificación de la nota"
   ]
  },
  {
   "cell_type": "code",
   "execution_count": 9,
   "metadata": {},
   "outputs": [
    {
     "ename": "KeyboardInterrupt",
     "evalue": "Interrupted by user",
     "output_type": "error",
     "traceback": [
      "\u001b[1;31m---------------------------------------------------------------------------\u001b[0m",
      "\u001b[1;31mKeyboardInterrupt\u001b[0m                         Traceback (most recent call last)",
      "Cell \u001b[1;32mIn[9], line 1\u001b[0m\n\u001b[1;32m----> 1\u001b[0m nota \u001b[38;5;241m=\u001b[39m \u001b[38;5;28mfloat\u001b[39m(\u001b[38;5;28;43minput\u001b[39;49m\u001b[43m(\u001b[49m\u001b[38;5;124;43m\"\u001b[39;49m\u001b[38;5;124;43mIntroduzca su nota:\u001b[39;49m\u001b[38;5;124;43m\"\u001b[39;49m\u001b[43m)\u001b[49m)\n\u001b[0;32m      3\u001b[0m \u001b[38;5;28;01mif\u001b[39;00m \u001b[38;5;241m0\u001b[39m \u001b[38;5;241m<\u001b[39m\u001b[38;5;241m=\u001b[39m nota \u001b[38;5;129;01mand\u001b[39;00m nota \u001b[38;5;241m<\u001b[39m \u001b[38;5;241m5\u001b[39m:\n\u001b[0;32m      4\u001b[0m     \u001b[38;5;28mprint\u001b[39m(\u001b[38;5;124m\"\u001b[39m\u001b[38;5;124mEstás suspenso , F\u001b[39m\u001b[38;5;124m\"\u001b[39m)\n",
      "File \u001b[1;32m~\\AppData\\Roaming\\Python\\Python312\\site-packages\\ipykernel\\kernelbase.py:1282\u001b[0m, in \u001b[0;36mKernel.raw_input\u001b[1;34m(self, prompt)\u001b[0m\n\u001b[0;32m   1280\u001b[0m     msg \u001b[38;5;241m=\u001b[39m \u001b[38;5;124m\"\u001b[39m\u001b[38;5;124mraw_input was called, but this frontend does not support input requests.\u001b[39m\u001b[38;5;124m\"\u001b[39m\n\u001b[0;32m   1281\u001b[0m     \u001b[38;5;28;01mraise\u001b[39;00m StdinNotImplementedError(msg)\n\u001b[1;32m-> 1282\u001b[0m \u001b[38;5;28;01mreturn\u001b[39;00m \u001b[38;5;28;43mself\u001b[39;49m\u001b[38;5;241;43m.\u001b[39;49m\u001b[43m_input_request\u001b[49m\u001b[43m(\u001b[49m\n\u001b[0;32m   1283\u001b[0m \u001b[43m    \u001b[49m\u001b[38;5;28;43mstr\u001b[39;49m\u001b[43m(\u001b[49m\u001b[43mprompt\u001b[49m\u001b[43m)\u001b[49m\u001b[43m,\u001b[49m\n\u001b[0;32m   1284\u001b[0m \u001b[43m    \u001b[49m\u001b[38;5;28;43mself\u001b[39;49m\u001b[38;5;241;43m.\u001b[39;49m\u001b[43m_parent_ident\u001b[49m\u001b[43m[\u001b[49m\u001b[38;5;124;43m\"\u001b[39;49m\u001b[38;5;124;43mshell\u001b[39;49m\u001b[38;5;124;43m\"\u001b[39;49m\u001b[43m]\u001b[49m\u001b[43m,\u001b[49m\n\u001b[0;32m   1285\u001b[0m \u001b[43m    \u001b[49m\u001b[38;5;28;43mself\u001b[39;49m\u001b[38;5;241;43m.\u001b[39;49m\u001b[43mget_parent\u001b[49m\u001b[43m(\u001b[49m\u001b[38;5;124;43m\"\u001b[39;49m\u001b[38;5;124;43mshell\u001b[39;49m\u001b[38;5;124;43m\"\u001b[39;49m\u001b[43m)\u001b[49m\u001b[43m,\u001b[49m\n\u001b[0;32m   1286\u001b[0m \u001b[43m    \u001b[49m\u001b[43mpassword\u001b[49m\u001b[38;5;241;43m=\u001b[39;49m\u001b[38;5;28;43;01mFalse\u001b[39;49;00m\u001b[43m,\u001b[49m\n\u001b[0;32m   1287\u001b[0m \u001b[43m\u001b[49m\u001b[43m)\u001b[49m\n",
      "File \u001b[1;32m~\\AppData\\Roaming\\Python\\Python312\\site-packages\\ipykernel\\kernelbase.py:1325\u001b[0m, in \u001b[0;36mKernel._input_request\u001b[1;34m(self, prompt, ident, parent, password)\u001b[0m\n\u001b[0;32m   1322\u001b[0m \u001b[38;5;28;01mexcept\u001b[39;00m \u001b[38;5;167;01mKeyboardInterrupt\u001b[39;00m:\n\u001b[0;32m   1323\u001b[0m     \u001b[38;5;66;03m# re-raise KeyboardInterrupt, to truncate traceback\u001b[39;00m\n\u001b[0;32m   1324\u001b[0m     msg \u001b[38;5;241m=\u001b[39m \u001b[38;5;124m\"\u001b[39m\u001b[38;5;124mInterrupted by user\u001b[39m\u001b[38;5;124m\"\u001b[39m\n\u001b[1;32m-> 1325\u001b[0m     \u001b[38;5;28;01mraise\u001b[39;00m \u001b[38;5;167;01mKeyboardInterrupt\u001b[39;00m(msg) \u001b[38;5;28;01mfrom\u001b[39;00m \u001b[38;5;28;01mNone\u001b[39;00m\n\u001b[0;32m   1326\u001b[0m \u001b[38;5;28;01mexcept\u001b[39;00m \u001b[38;5;167;01mException\u001b[39;00m:\n\u001b[0;32m   1327\u001b[0m     \u001b[38;5;28mself\u001b[39m\u001b[38;5;241m.\u001b[39mlog\u001b[38;5;241m.\u001b[39mwarning(\u001b[38;5;124m\"\u001b[39m\u001b[38;5;124mInvalid Message:\u001b[39m\u001b[38;5;124m\"\u001b[39m, exc_info\u001b[38;5;241m=\u001b[39m\u001b[38;5;28;01mTrue\u001b[39;00m)\n",
      "\u001b[1;31mKeyboardInterrupt\u001b[0m: Interrupted by user"
     ]
    }
   ],
   "source": [
    "nota = float(input(\"Introduzca su nota:\"))\n",
    "\n",
    "if 0 <= nota and nota < 5:\n",
    "    print(\"Estás suspenso , F\")\n",
    "\n",
    "elif 5 <= nota and nota < 7:\n",
    "    print(\"Aprobado\")\n",
    "\n",
    "elif 7 <= nota and nota < 9:\n",
    "    property(\"Notable\")\n",
    "\n",
    "elif 9 <= nota and nota <= 10:\n",
    "    print(\"Sobresaliente!\")\n",
    "\n",
    "else:\n",
    "    print(\"Nota fuera de rango\")"
   ]
  },
  {
   "cell_type": "markdown",
   "metadata": {},
   "source": [
    "---------------------"
   ]
  },
  {
   "cell_type": "markdown",
   "metadata": {},
   "source": [
    "\n",
    "### Bucle `while`\n",
    "\n",
    "1. **Se utiliza para repetir un bloque de código mientras se cumpla una condición:**\n",
    "   - Ejemplo:\n",
    "     ```python\n",
    "     contador = 3\n",
    "     while contador > 0:\n",
    "         print(f\"Contador: {contador}\")\n",
    "         contador -= 1\n",
    "     ```\n",
    "\n",
    "2. **La condición se evalúa al inicio de cada iteración:**\n",
    "   - Ejemplo:\n",
    "     ```python\n",
    "     while False:\n",
    "         print(\"Esto nunca se ejecuta\")\n",
    "     ```\n",
    "\n",
    "3. **El bucle se detiene cuando la condición es `False`:**\n",
    "   - Ejemplo:\n",
    "     ```python\n",
    "     contador = 1\n",
    "     while contador > 5:\n",
    "         print(\"Esto no se ejecuta\")\n",
    "     ```\n",
    "\n",
    "El bucle `while` es útil para situaciones en las que no se conoce de antemano el número exacto de iteraciones y depende de una evaluación dinámica de la condición.\n",
    "\n"
   ]
  },
  {
   "cell_type": "markdown",
   "metadata": {},
   "source": [
    "- Ejemplo: Realizamos un contador"
   ]
  },
  {
   "cell_type": "code",
   "execution_count": 4,
   "metadata": {},
   "outputs": [
    {
     "name": "stdout",
     "output_type": "stream",
     "text": [
      "El contenido del contador es: 2\n",
      "El contenido del contador es: 1\n",
      "El contenido del contador es: 0\n"
     ]
    }
   ],
   "source": [
    "contador = 3\n",
    "\n",
    "while contador != 0:\n",
    "    contador = contador - 1\n",
    "    print(\"El contenido del contador es:\" , contador)"
   ]
  },
  {
   "cell_type": "markdown",
   "metadata": {},
   "source": [
    "---------------------------------------------------------------------------"
   ]
  },
  {
   "cell_type": "markdown",
   "metadata": {},
   "source": [
    "\n",
    "\n",
    "### Bucle `for`\n",
    "\n",
    "1. **Se utiliza para iterar sobre una colección de elementos:**\n",
    "   - Ejemplo:\n",
    "     ```python\n",
    "     lista = [1, 2, 3]\n",
    "     for elemento in lista:\n",
    "         print(elemento)\n",
    "     ```\n",
    "\n",
    "2. **Recorre cada elemento de la colección uno por uno y ejecuta el mismo bloque de código:**\n",
    "   - Ejemplo:\n",
    "     ```python\n",
    "     for letra in \"Python\":\n",
    "         print(letra)\n",
    "     ```\n",
    "\n",
    "3. **Funciona con cualquier objeto iterable, como listas, cadenas, tuplas o diccionarios:**\n",
    "   - Ejemplo con un diccionario:\n",
    "     ```python\n",
    "     diccionario = {\"a\": 1, \"b\": 2}\n",
    "     for clave, valor in diccionario.items():\n",
    "         print(f\"Clave: {clave}, Valor: {valor}\")\n",
    "     ```\n",
    "\n",
    "El bucle `for` es útil para procesar elementos de una colección de manera estructurada y eficiente.\n"
   ]
  },
  {
   "cell_type": "markdown",
   "metadata": {},
   "source": [
    "- Ejemplos:"
   ]
  },
  {
   "cell_type": "code",
   "execution_count": 7,
   "metadata": {},
   "outputs": [
    {
     "name": "stdout",
     "output_type": "stream",
     "text": [
      "Dos\n",
      "Uno\n",
      "Cero\n"
     ]
    }
   ],
   "source": [
    "lista = list((2,1,0))\n",
    "tupla = tuple((2,1,0))\n",
    "conjunto = set((2,1,0))\n",
    "diccionario = dict(((2, \"Dos\"), (1 , \"Uno\") , (0 , \"Cero\")))\n",
    "\n",
    "for iterador in diccionario.values():\n",
    "    print(iterador)"
   ]
  },
  {
   "cell_type": "markdown",
   "metadata": {},
   "source": [
    "- Ejemplo: Obtenemos la longitud de la lista"
   ]
  },
  {
   "cell_type": "code",
   "execution_count": 8,
   "metadata": {},
   "outputs": [
    {
     "name": "stdout",
     "output_type": "stream",
     "text": [
      "Índice: 0 Elemento: Vamos\n",
      "Índice: 1 Elemento: a\n",
      "Índice: 2 Elemento: acceder\n",
      "Índice: 3 Elemento: a\n",
      "Índice: 4 Elemento: esta\n",
      "Índice: 5 Elemento: lista\n",
      "Índice: 6 Elemento: por\n",
      "Índice: 7 Elemento: índices\n"
     ]
    }
   ],
   "source": [
    "lista = [\"Vamos\" , \"a\" , \"acceder\" , \"a\" , \"esta\" , \"lista\" , \"por\" , \"índices\"]\n",
    "\n",
    "for indice in range(len(lista)):\n",
    "    print(\"Índice:\" , indice, \"Elemento:\", lista[indice])\n"
   ]
  },
  {
   "cell_type": "markdown",
   "metadata": {},
   "source": [
    "--------------------------"
   ]
  },
  {
   "cell_type": "markdown",
   "metadata": {},
   "source": [
    "## While y for son bucles que ejecutan bloques de código repetidamente. En estos bloques de código podemos usar 2 sentencias muy importantes.\n",
    "\n",
    "- **break**: Nos permite detener el bucle y salir de él aunque la expresión de la condición sea `True`. Esto es útil cuando queremos terminar el bucle prematuramente bajo ciertas condiciones.\n",
    "  \n",
    "\n",
    "- **continue**: Nos permite saltar la iteración actual y continuar con la siguiente iteración del bucle. Esto es útil cuando queremos omitir ciertas iteraciones basadas en una condición.\n",
    "  \n",
    "\n",
    "Estas sentencias son herramientas poderosas para controlar el flujo de ejecución dentro de los bucles y pueden hacer que el código sea más eficiente y legible."
   ]
  },
  {
   "cell_type": "code",
   "execution_count": 13,
   "metadata": {},
   "outputs": [
    {
     "name": "stdout",
     "output_type": "stream",
     "text": [
      "0\n",
      "1\n",
      "2\n"
     ]
    }
   ],
   "source": [
    "for numero in range(5):\n",
    "    if numero == 3:\n",
    "        break # LLega a break y termina\n",
    "    print(numero)"
   ]
  },
  {
   "cell_type": "code",
   "execution_count": 14,
   "metadata": {},
   "outputs": [
    {
     "name": "stdout",
     "output_type": "stream",
     "text": [
      "0\n",
      "1\n",
      "2\n",
      "4\n"
     ]
    }
   ],
   "source": [
    "for numero in range(5):\n",
    "    if numero == 3:\n",
    "        continue # Se salta al 3 y sigue la iteración\n",
    "    print(numero)"
   ]
  },
  {
   "cell_type": "markdown",
   "metadata": {},
   "source": [
    "## Combinación de while y for con else"
   ]
  },
  {
   "cell_type": "code",
   "execution_count": null,
   "metadata": {},
   "outputs": [
    {
     "name": "stdout",
     "output_type": "stream",
     "text": [
      "Contraseña incorrecta\n",
      "Contraseña incorrecta\n",
      "Contraseña incorrecta\n",
      "Se te han acabado los intentos :(\n"
     ]
    }
   ],
   "source": [
    "intentos = 3\n",
    "\n",
    "while intentos > 0:\n",
    "    if input(\">>> Escriba la contraseña:\") == \"BitBoos\":\n",
    "        print(\"Correcta!\")\n",
    "        break # Termina el bucle\n",
    "    intentos = intentos - 1\n",
    "    print(\"Contraseña incorrecta\")\n",
    "\n",
    "else:\n",
    "    print(\"Se te han acabado los intentos :(\")"
   ]
  }
 ],
 "metadata": {
  "kernelspec": {
   "display_name": "Python 3",
   "language": "python",
   "name": "python3"
  },
  "language_info": {
   "codemirror_mode": {
    "name": "ipython",
    "version": 3
   },
   "file_extension": ".py",
   "mimetype": "text/x-python",
   "name": "python",
   "nbconvert_exporter": "python",
   "pygments_lexer": "ipython3",
   "version": "3.12.5"
  }
 },
 "nbformat": 4,
 "nbformat_minor": 2
}
